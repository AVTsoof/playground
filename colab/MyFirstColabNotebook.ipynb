{
  "nbformat": 4,
  "nbformat_minor": 0,
  "metadata": {
    "colab": {
      "name": "MyFirstColabNotebook.ipynb",
      "provenance": [],
      "collapsed_sections": [],
      "authorship_tag": "ABX9TyPnM/rGRDgESXkbTQeE286k",
      "include_colab_link": true
    },
    "kernelspec": {
      "name": "python3",
      "display_name": "Python 3"
    },
    "language_info": {
      "name": "python"
    }
  },
  "cells": [
    {
      "cell_type": "markdown",
      "metadata": {
        "id": "view-in-github",
        "colab_type": "text"
      },
      "source": [
        "<a href=\"https://colab.research.google.com/github/AVTsoof/playground/blob/main/MyFirstColabNotebook.ipynb\" target=\"_parent\"><img src=\"https://colab.research.google.com/assets/colab-badge.svg\" alt=\"Open In Colab\"/></a>"
      ]
    },
    {
      "cell_type": "markdown",
      "metadata": {
        "id": "IY6oddCY8nV3"
      },
      "source": [
        "# My First Colab Notebook\n",
        "Based on tutorial from: https://www.tutorialspoint.com/google_colab/google_colab_quick_guide.htm\n"
      ]
    },
    {
      "cell_type": "code",
      "metadata": {
        "colab": {
          "base_uri": "https://localhost:8080/"
        },
        "id": "G461U9Ip8gZq",
        "outputId": "ad8e4d18-8345-4351-9adc-19ce558c14fd"
      },
      "source": [
        "import time\n",
        "print(time.ctime())"
      ],
      "execution_count": 1,
      "outputs": [
        {
          "output_type": "stream",
          "name": "stdout",
          "text": [
            "Sat Sep 11 08:24:51 2021\n"
          ]
        }
      ]
    },
    {
      "cell_type": "code",
      "metadata": {
        "colab": {
          "base_uri": "https://localhost:8080/"
        },
        "id": "vRY5qYOE9IFp",
        "outputId": "f350addb-8b3d-41cd-aac0-2408ee50d90f"
      },
      "source": [
        "print(time.ctime())\n",
        "time.sleep(5)\n",
        "print(time.ctime())"
      ],
      "execution_count": 2,
      "outputs": [
        {
          "output_type": "stream",
          "name": "stdout",
          "text": [
            "Sat Sep 11 08:24:52 2021\n",
            "Sat Sep 11 08:24:57 2021\n"
          ]
        }
      ]
    },
    {
      "cell_type": "markdown",
      "metadata": {
        "id": "g-IPYEqf_NPy"
      },
      "source": [
        "Just some Markdown examples:\n",
        "* This is **Bold**.\n",
        "* This is *Italic*.\n",
        "* This is ~Strike~.\n",
        "\n"
      ]
    },
    {
      "cell_type": "code",
      "metadata": {
        "id": "SKg7ISjj_VTe"
      },
      "source": [
        ""
      ],
      "execution_count": null,
      "outputs": []
    },
    {
      "cell_type": "markdown",
      "metadata": {
        "id": "NAzKvQYI_34r"
      },
      "source": [
        "Some LaTeX:\n",
        "\n",
        "$S = \\sum_{-\\infty}^{\\infty} \\frac{1}{x^2} $\n"
      ]
    },
    {
      "cell_type": "markdown",
      "metadata": {
        "id": "getBQtxKAgLX"
      },
      "source": [
        ""
      ]
    }
  ]
}