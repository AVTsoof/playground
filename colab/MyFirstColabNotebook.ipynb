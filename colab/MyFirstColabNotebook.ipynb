{
  "nbformat": 4,
  "nbformat_minor": 0,
  "metadata": {
    "colab": {
      "name": "MyFirstColabNotebook.ipynb",
      "provenance": [],
      "collapsed_sections": [],
      "mount_file_id": "1cAOEsgA317icmjQMwhPzKmPcgUN0xX0b",
      "authorship_tag": "ABX9TyM8fE5yuJKVsKthE62vd7rw",
      "include_colab_link": true
    },
    "kernelspec": {
      "name": "python3",
      "display_name": "Python 3"
    },
    "language_info": {
      "name": "python"
    }
  },
  "cells": [
    {
      "cell_type": "markdown",
      "metadata": {
        "id": "view-in-github",
        "colab_type": "text"
      },
      "source": [
        "<a href=\"https://colab.research.google.com/github/AVTsoof/playground/blob/main/colab/MyFirstColabNotebook.ipynb\" target=\"_parent\"><img src=\"https://colab.research.google.com/assets/colab-badge.svg\" alt=\"Open In Colab\"/></a>"
      ]
    },
    {
      "cell_type": "markdown",
      "metadata": {
        "id": "IY6oddCY8nV3"
      },
      "source": [
        "# My First Colab Notebook\n",
        "Based on tutorial from: https://www.tutorialspoint.com/google_colab/google_colab_quick_guide.htm\n"
      ]
    },
    {
      "cell_type": "code",
      "metadata": {
        "colab": {
          "base_uri": "https://localhost:8080/"
        },
        "id": "G461U9Ip8gZq",
        "outputId": "ad8e4d18-8345-4351-9adc-19ce558c14fd"
      },
      "source": [
        "import time\n",
        "print(time.ctime())"
      ],
      "execution_count": null,
      "outputs": [
        {
          "output_type": "stream",
          "name": "stdout",
          "text": [
            "Sat Sep 11 08:24:51 2021\n"
          ]
        }
      ]
    },
    {
      "cell_type": "code",
      "metadata": {
        "colab": {
          "base_uri": "https://localhost:8080/"
        },
        "id": "vRY5qYOE9IFp",
        "outputId": "f350addb-8b3d-41cd-aac0-2408ee50d90f"
      },
      "source": [
        "print(time.ctime())\n",
        "time.sleep(5)\n",
        "print(time.ctime())"
      ],
      "execution_count": null,
      "outputs": [
        {
          "output_type": "stream",
          "name": "stdout",
          "text": [
            "Sat Sep 11 08:24:52 2021\n",
            "Sat Sep 11 08:24:57 2021\n"
          ]
        }
      ]
    },
    {
      "cell_type": "markdown",
      "metadata": {
        "id": "g-IPYEqf_NPy"
      },
      "source": [
        "Just some Markdown examples:\n",
        "* This is **Bold**.\n",
        "* This is *Italic*.\n",
        "* This is ~Strike~.\n",
        "\n"
      ]
    },
    {
      "cell_type": "markdown",
      "metadata": {
        "id": "NAzKvQYI_34r"
      },
      "source": [
        "Some LaTeX:\n",
        "\n",
        "$S = \\sum_{-\\infty}^{\\infty} \\frac{1}{x^2} $\n"
      ]
    },
    {
      "cell_type": "markdown",
      "metadata": {
        "id": "getBQtxKAgLX"
      },
      "source": [
        "# Cloning a git repo"
      ]
    },
    {
      "cell_type": "code",
      "metadata": {
        "colab": {
          "base_uri": "https://localhost:8080/"
        },
        "id": "BA2fT-8zGQ3w",
        "outputId": "e97fbda0-a268-4900-8fd0-c2eed1d4c761"
      },
      "source": [
        "!git clone https://github.com/AVTsoof/playground"
      ],
      "execution_count": 3,
      "outputs": [
        {
          "output_type": "stream",
          "name": "stdout",
          "text": [
            "Cloning into 'playground'...\n",
            "remote: Enumerating objects: 10, done.\u001b[K\n",
            "remote: Counting objects: 100% (10/10), done.\u001b[K\n",
            "remote: Compressing objects: 100% (6/6), done.\u001b[K\n",
            "remote: Total 10 (delta 0), reused 7 (delta 0), pack-reused 0\u001b[K\n",
            "Unpacking objects: 100% (10/10), done.\n"
          ]
        }
      ]
    },
    {
      "cell_type": "markdown",
      "metadata": {
        "id": "RA-0uLHsG5zp"
      },
      "source": [
        "# Mounting Drive"
      ]
    },
    {
      "cell_type": "code",
      "metadata": {
        "colab": {
          "base_uri": "https://localhost:8080/"
        },
        "id": "m9bqPiiWG-zf",
        "outputId": "82731f97-e98a-4cd2-f2a4-087068c00a7f"
      },
      "source": [
        "# Run this cell to mount your Google Drive.\n",
        "from google.colab import drive\n",
        "drive.mount('/content/drive')"
      ],
      "execution_count": 4,
      "outputs": [
        {
          "output_type": "stream",
          "name": "stdout",
          "text": [
            "Drive already mounted at /content/drive; to attempt to forcibly remount, call drive.mount(\"/content/drive\", force_remount=True).\n"
          ]
        }
      ]
    },
    {
      "cell_type": "code",
      "metadata": {
        "colab": {
          "base_uri": "https://localhost:8080/"
        },
        "id": "4WWS9sWoHZ7V",
        "outputId": "8e3c8e57-410e-4a09-bebb-7ce38a0bffcb"
      },
      "source": [
        "# Listing drive content\n",
        "!ls \"/content/drive/MyDrive/Colab Notebooks\""
      ],
      "execution_count": 9,
      "outputs": [
        {
          "output_type": "stream",
          "name": "stdout",
          "text": [
            "esrgan.py     image_enhancing.ipynb\t  original_video.mp4  video_utils.py\n",
            "esrgan-tf2_1  image_enhancing.py\t  outputs\n",
            "hello.py      MyFirstColabNotebook.ipynb  Untitled\n"
          ]
        }
      ]
    },
    {
      "cell_type": "markdown",
      "metadata": {
        "id": "R-IyvjnzIAQe"
      },
      "source": [
        "# Running python"
      ]
    },
    {
      "cell_type": "code",
      "metadata": {
        "colab": {
          "base_uri": "https://localhost:8080/"
        },
        "id": "eh2HqhOcH8qy",
        "outputId": "bb19fd10-ee67-4b0f-b70e-22840169a96f"
      },
      "source": [
        "!python3 \"/content/drive/MyDrive/Colab Notebooks/hello.py\""
      ],
      "execution_count": 10,
      "outputs": [
        {
          "output_type": "stream",
          "name": "stdout",
          "text": [
            "Hi, this is Tsoof\n"
          ]
        }
      ]
    },
    {
      "cell_type": "markdown",
      "metadata": {
        "id": "kLhPI2FCI5g0"
      },
      "source": [
        "# Installing libraries into colab workspace"
      ]
    },
    {
      "cell_type": "code",
      "metadata": {
        "colab": {
          "base_uri": "https://localhost:8080/"
        },
        "id": "42IE6LjhI87g",
        "outputId": "b5e1963b-332b-49b2-9dcc-77a2b13bb821"
      },
      "source": [
        "!pip3 install torch torchvision"
      ],
      "execution_count": 11,
      "outputs": [
        {
          "output_type": "stream",
          "name": "stdout",
          "text": [
            "Requirement already satisfied: torch in /usr/local/lib/python3.7/dist-packages (1.9.0+cu102)\n",
            "Requirement already satisfied: torchvision in /usr/local/lib/python3.7/dist-packages (0.10.0+cu102)\n",
            "Requirement already satisfied: typing-extensions in /usr/local/lib/python3.7/dist-packages (from torch) (3.7.4.3)\n",
            "Requirement already satisfied: numpy in /usr/local/lib/python3.7/dist-packages (from torchvision) (1.19.5)\n",
            "Requirement already satisfied: pillow>=5.3.0 in /usr/local/lib/python3.7/dist-packages (from torchvision) (7.1.2)\n"
          ]
        }
      ]
    }
  ]
}